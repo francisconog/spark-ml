{
 "cells": [
  {
   "cell_type": "markdown",
   "metadata": {
    "id": "BwhP2rhUGI_k"
   },
   "source": [
    "# **Aula 1 - Preparando os Dados**"
   ]
  },
  {
   "cell_type": "markdown",
   "metadata": {
    "id": "2GbwQeCXGaaV"
   },
   "source": [
    "## **1.1 Apresentação**"
   ]
  },
  {
   "cell_type": "markdown",
   "metadata": {
    "id": "BAWE5PSLMmSX"
   },
   "source": [
    "## **1.2 Preparando o Ambiente**\n",
    "\n",
    "### PySpark\n",
    "\n",
    "PySpark é uma interface para Apache Spark em Python. Ele não apenas permite que você escreva aplicativos Spark usando APIs Python, mas também fornece o *shell* PySpark para analisar interativamente seus dados em um ambiente distribuído. O PySpark oferece suporte à maioria dos recursos do Spark, como Spark SQL, DataFrame, Streaming, MLlib (Machine Learning) e Spark Core.\n",
    "\n",
    "<center><img src=\"https://caelum-online-public.s3.amazonaws.com/2273-introducao-spark/01/img-001.png\"/></center>\n",
    "\n",
    "#### **Spark SQL e DataFrame**\n",
    "\n",
    "Spark SQL é um módulo Spark para processamento de dados estruturados. Ele fornece uma abstração de programação chamada DataFrame e também pode atuar como mecanismo de consulta SQL distribuído.\n",
    "\n",
    "#### **Spark Streaming**\n",
    "\n",
    "Executando em cima do Spark, o recurso de *streaming* no Apache Spark possibilita o uso de poderosas aplicações interativas e analíticas em *streaming* e dados históricos, enquanto herda a facilidade de uso do Spark e as características de tolerância a falhas.\n",
    "\n",
    "#### **Spark MLlib**\n",
    "\n",
    "Construído sobre o Spark, MLlib é uma biblioteca de aprendizado de máquina escalonável que fornece um conjunto uniforme de APIs de alto nível que ajudam os usuários a criar e ajustar *pipelines* de aprendizado de máquina práticos.\n",
    "\n",
    "#### **Spark Core**\n",
    "\n",
    "Spark Core é o mecanismo de execução geral subjacente para a plataforma Spark sobre o qual todas as outras funcionalidades são construídas. Ele fornece um RDD (*Resilient Distributed Dataset*) e recursos de computação na memória.\n",
    "\n",
    "<font size=2>**Fonte:** [PySpark](https://spark.apache.org/docs/latest/api/python/index.html)</font>"
   ]
  },
  {
   "cell_type": "code",
   "execution_count": 1,
   "metadata": {
    "colab": {
     "base_uri": "https://localhost:8080/"
    },
    "id": "4Gs-5LKuvWmE",
    "outputId": "65220693-ab76-4dec-ecbc-87dee608eb00"
   },
   "outputs": [],
   "source": [
    "#!pip install pyspark"
   ]
  },
  {
   "cell_type": "markdown",
   "metadata": {
    "id": "43dP4NVZOEI2"
   },
   "source": [
    "### SparkSession\n",
    "\n",
    "O ponto de entrada para programar o Spark com a API Dataset e DataFrame.\n",
    "\n",
    "Uma SparkSession pode ser utilizada para criar DataFrames, registrar DataFrames como tabelas, executar consultas SQL em tabelas, armazenar em cache e ler arquivos parquet. Para criar uma SparkSession, use o seguinte padrão de construtor:\n",
    "\n",
    "<font size=2>**Fonte:** [SparkSession](https://spark.apache.org/docs/latest/api/python/reference/api/pyspark.sql.SparkSession.html)</font>"
   ]
  },
  {
   "cell_type": "code",
   "execution_count": 2,
   "metadata": {
    "id": "1_WixBVIvvB-"
   },
   "outputs": [],
   "source": [
    "from pyspark.sql import SparkSession"
   ]
  },
  {
   "cell_type": "code",
   "execution_count": 3,
   "metadata": {
    "colab": {
     "base_uri": "https://localhost:8080/",
     "height": 219
    },
    "id": "H02jOAtLOpQY",
    "outputId": "a912299c-3795-4515-8ee7-e0f4a1d481be"
   },
   "outputs": [
    {
     "name": "stderr",
     "output_type": "stream",
     "text": [
      "23/01/03 16:54:42 WARN Utils: Your hostname, MacBook-Pro-de-Francisco.local resolves to a loopback address: 127.0.0.1; using 192.168.15.18 instead (on interface en0)\n",
      "23/01/03 16:54:42 WARN Utils: Set SPARK_LOCAL_IP if you need to bind to another address\n",
      "Using Spark's default log4j profile: org/apache/spark/log4j-defaults.properties\n",
      "Setting default log level to \"WARN\".\n",
      "To adjust logging level use sc.setLogLevel(newLevel). For SparkR, use setLogLevel(newLevel).\n",
      "23/01/03 16:54:43 WARN NativeCodeLoader: Unable to load native-hadoop library for your platform... using builtin-java classes where applicable\n"
     ]
    },
    {
     "data": {
      "text/html": [
       "\n",
       "            <div>\n",
       "                <p><b>SparkSession - in-memory</b></p>\n",
       "                \n",
       "        <div>\n",
       "            <p><b>SparkContext</b></p>\n",
       "\n",
       "            <p><a href=\"http://192.168.15.18:4040\">Spark UI</a></p>\n",
       "\n",
       "            <dl>\n",
       "              <dt>Version</dt>\n",
       "                <dd><code>v3.2.1</code></dd>\n",
       "              <dt>Master</dt>\n",
       "                <dd><code>local[*]</code></dd>\n",
       "              <dt>AppName</dt>\n",
       "                <dd><code>Classificação com Spark</code></dd>\n",
       "            </dl>\n",
       "        </div>\n",
       "        \n",
       "            </div>\n",
       "        "
      ],
      "text/plain": [
       "<pyspark.sql.session.SparkSession at 0x7faf28edd580>"
      ]
     },
     "execution_count": 3,
     "metadata": {},
     "output_type": "execute_result"
    }
   ],
   "source": [
    "spark = (SparkSession.builder.master('local[*]')\n",
    "         .appName(\"Classificação com Spark\")\n",
    "         .getOrCreate())\n",
    "spark"
   ]
  },
  {
   "cell_type": "markdown",
   "metadata": {
    "id": "BOQSXCsB-XJ4"
   },
   "source": [
    "## **1.3 Carregamento dos Dados**"
   ]
  },
  {
   "cell_type": "code",
   "execution_count": 4,
   "metadata": {
    "id": "iIjhbXvgPMSy"
   },
   "outputs": [
    {
     "name": "stderr",
     "output_type": "stream",
     "text": [
      "                                                                                \r"
     ]
    }
   ],
   "source": [
    "dados = spark.read.csv('../data/raw/dados_clientes.csv',\n",
    "                       sep=',',\n",
    "                       header=True,\n",
    "                       inferSchema=True)"
   ]
  },
  {
   "cell_type": "code",
   "execution_count": 5,
   "metadata": {
    "colab": {
     "base_uri": "https://localhost:8080/"
    },
    "id": "bItkwybT-BOG",
    "outputId": "f940ab1d-b448-4d1f-8c07-92c2bbecb1d2"
   },
   "outputs": [
    {
     "data": {
      "text/plain": [
       "DataFrame[id: int, Churn: string, Mais65anos: int, Conjuge: string, Dependentes: string, MesesDeContrato: int, TelefoneFixo: string, MaisDeUmaLinhaTelefonica: string, Internet: string, SegurancaOnline: string, BackupOnline: string, SeguroDispositivo: string, SuporteTecnico: string, TVaCabo: string, StreamingFilmes: string, TipoContrato: string, ContaCorreio: string, MetodoPagamento: string, MesesCobrados: double]"
      ]
     },
     "execution_count": 5,
     "metadata": {},
     "output_type": "execute_result"
    }
   ],
   "source": [
    "dados"
   ]
  },
  {
   "cell_type": "code",
   "execution_count": 6,
   "metadata": {
    "colab": {
     "base_uri": "https://localhost:8080/"
    },
    "id": "WMx7nLWW-BIV",
    "outputId": "dbba3f28-b028-422b-c0f0-3e8e79bfd448"
   },
   "outputs": [
    {
     "data": {
      "text/html": [
       "<div>\n",
       "<style scoped>\n",
       "    .dataframe tbody tr th:only-of-type {\n",
       "        vertical-align: middle;\n",
       "    }\n",
       "\n",
       "    .dataframe tbody tr th {\n",
       "        vertical-align: top;\n",
       "    }\n",
       "\n",
       "    .dataframe thead th {\n",
       "        text-align: right;\n",
       "    }\n",
       "</style>\n",
       "<table border=\"1\" class=\"dataframe\">\n",
       "  <thead>\n",
       "    <tr style=\"text-align: right;\">\n",
       "      <th></th>\n",
       "      <th>id</th>\n",
       "      <th>Churn</th>\n",
       "      <th>Mais65anos</th>\n",
       "      <th>Conjuge</th>\n",
       "      <th>Dependentes</th>\n",
       "      <th>MesesDeContrato</th>\n",
       "      <th>TelefoneFixo</th>\n",
       "      <th>MaisDeUmaLinhaTelefonica</th>\n",
       "      <th>Internet</th>\n",
       "      <th>SegurancaOnline</th>\n",
       "      <th>BackupOnline</th>\n",
       "      <th>SeguroDispositivo</th>\n",
       "      <th>SuporteTecnico</th>\n",
       "      <th>TVaCabo</th>\n",
       "      <th>StreamingFilmes</th>\n",
       "      <th>TipoContrato</th>\n",
       "      <th>ContaCorreio</th>\n",
       "      <th>MetodoPagamento</th>\n",
       "      <th>MesesCobrados</th>\n",
       "    </tr>\n",
       "  </thead>\n",
       "  <tbody>\n",
       "    <tr>\n",
       "      <th>0</th>\n",
       "      <td>0</td>\n",
       "      <td>Nao</td>\n",
       "      <td>0</td>\n",
       "      <td>Sim</td>\n",
       "      <td>Nao</td>\n",
       "      <td>1</td>\n",
       "      <td>Nao</td>\n",
       "      <td>SemServicoTelefonico</td>\n",
       "      <td>DSL</td>\n",
       "      <td>Nao</td>\n",
       "      <td>Sim</td>\n",
       "      <td>Nao</td>\n",
       "      <td>Nao</td>\n",
       "      <td>Nao</td>\n",
       "      <td>Nao</td>\n",
       "      <td>Mensalmente</td>\n",
       "      <td>Sim</td>\n",
       "      <td>BoletoEletronico</td>\n",
       "      <td>29.85</td>\n",
       "    </tr>\n",
       "    <tr>\n",
       "      <th>1</th>\n",
       "      <td>1</td>\n",
       "      <td>Nao</td>\n",
       "      <td>0</td>\n",
       "      <td>Nao</td>\n",
       "      <td>Nao</td>\n",
       "      <td>34</td>\n",
       "      <td>Sim</td>\n",
       "      <td>Nao</td>\n",
       "      <td>DSL</td>\n",
       "      <td>Sim</td>\n",
       "      <td>Nao</td>\n",
       "      <td>Sim</td>\n",
       "      <td>Nao</td>\n",
       "      <td>Nao</td>\n",
       "      <td>Nao</td>\n",
       "      <td>UmAno</td>\n",
       "      <td>Nao</td>\n",
       "      <td>Boleto</td>\n",
       "      <td>56.95</td>\n",
       "    </tr>\n",
       "    <tr>\n",
       "      <th>2</th>\n",
       "      <td>2</td>\n",
       "      <td>Sim</td>\n",
       "      <td>0</td>\n",
       "      <td>Nao</td>\n",
       "      <td>Nao</td>\n",
       "      <td>2</td>\n",
       "      <td>Sim</td>\n",
       "      <td>Nao</td>\n",
       "      <td>DSL</td>\n",
       "      <td>Sim</td>\n",
       "      <td>Sim</td>\n",
       "      <td>Nao</td>\n",
       "      <td>Nao</td>\n",
       "      <td>Nao</td>\n",
       "      <td>Nao</td>\n",
       "      <td>Mensalmente</td>\n",
       "      <td>Sim</td>\n",
       "      <td>Boleto</td>\n",
       "      <td>53.85</td>\n",
       "    </tr>\n",
       "    <tr>\n",
       "      <th>3</th>\n",
       "      <td>3</td>\n",
       "      <td>Nao</td>\n",
       "      <td>0</td>\n",
       "      <td>Nao</td>\n",
       "      <td>Nao</td>\n",
       "      <td>45</td>\n",
       "      <td>Nao</td>\n",
       "      <td>SemServicoTelefonico</td>\n",
       "      <td>DSL</td>\n",
       "      <td>Sim</td>\n",
       "      <td>Nao</td>\n",
       "      <td>Sim</td>\n",
       "      <td>Sim</td>\n",
       "      <td>Nao</td>\n",
       "      <td>Nao</td>\n",
       "      <td>UmAno</td>\n",
       "      <td>Nao</td>\n",
       "      <td>DebitoEmConta</td>\n",
       "      <td>42.30</td>\n",
       "    </tr>\n",
       "    <tr>\n",
       "      <th>4</th>\n",
       "      <td>4</td>\n",
       "      <td>Sim</td>\n",
       "      <td>0</td>\n",
       "      <td>Nao</td>\n",
       "      <td>Nao</td>\n",
       "      <td>2</td>\n",
       "      <td>Sim</td>\n",
       "      <td>Nao</td>\n",
       "      <td>FibraOptica</td>\n",
       "      <td>Nao</td>\n",
       "      <td>Nao</td>\n",
       "      <td>Nao</td>\n",
       "      <td>Nao</td>\n",
       "      <td>Nao</td>\n",
       "      <td>Nao</td>\n",
       "      <td>Mensalmente</td>\n",
       "      <td>Sim</td>\n",
       "      <td>BoletoEletronico</td>\n",
       "      <td>70.70</td>\n",
       "    </tr>\n",
       "  </tbody>\n",
       "</table>\n",
       "</div>"
      ],
      "text/plain": [
       "   id Churn  Mais65anos Conjuge Dependentes  MesesDeContrato TelefoneFixo  \\\n",
       "0   0   Nao           0     Sim         Nao                1          Nao   \n",
       "1   1   Nao           0     Nao         Nao               34          Sim   \n",
       "2   2   Sim           0     Nao         Nao                2          Sim   \n",
       "3   3   Nao           0     Nao         Nao               45          Nao   \n",
       "4   4   Sim           0     Nao         Nao                2          Sim   \n",
       "\n",
       "  MaisDeUmaLinhaTelefonica     Internet SegurancaOnline BackupOnline  \\\n",
       "0     SemServicoTelefonico          DSL             Nao          Sim   \n",
       "1                      Nao          DSL             Sim          Nao   \n",
       "2                      Nao          DSL             Sim          Sim   \n",
       "3     SemServicoTelefonico          DSL             Sim          Nao   \n",
       "4                      Nao  FibraOptica             Nao          Nao   \n",
       "\n",
       "  SeguroDispositivo SuporteTecnico TVaCabo StreamingFilmes TipoContrato  \\\n",
       "0               Nao            Nao     Nao             Nao  Mensalmente   \n",
       "1               Sim            Nao     Nao             Nao        UmAno   \n",
       "2               Nao            Nao     Nao             Nao  Mensalmente   \n",
       "3               Sim            Sim     Nao             Nao        UmAno   \n",
       "4               Nao            Nao     Nao             Nao  Mensalmente   \n",
       "\n",
       "  ContaCorreio   MetodoPagamento  MesesCobrados  \n",
       "0          Sim  BoletoEletronico          29.85  \n",
       "1          Nao            Boleto          56.95  \n",
       "2          Sim            Boleto          53.85  \n",
       "3          Nao     DebitoEmConta          42.30  \n",
       "4          Sim  BoletoEletronico          70.70  "
      ]
     },
     "execution_count": 6,
     "metadata": {},
     "output_type": "execute_result"
    }
   ],
   "source": [
    "dados\\\n",
    "    .limit(5)\\\n",
    "    .toPandas()"
   ]
  },
  {
   "cell_type": "code",
   "execution_count": 7,
   "metadata": {
    "colab": {
     "base_uri": "https://localhost:8080/"
    },
    "id": "DyXF17Oo-BCw",
    "outputId": "bcae23a0-7f8e-4948-f6d0-34780f5a1748"
   },
   "outputs": [
    {
     "data": {
      "text/plain": [
       "10348"
      ]
     },
     "execution_count": 7,
     "metadata": {},
     "output_type": "execute_result"
    }
   ],
   "source": [
    "dados.count()"
   ]
  },
  {
   "cell_type": "code",
   "execution_count": 8,
   "metadata": {
    "colab": {
     "base_uri": "https://localhost:8080/"
    },
    "id": "wOXJOUgGpi9z",
    "outputId": "9f06f92d-98d1-4be2-961c-c56f2225d29c"
   },
   "outputs": [
    {
     "name": "stderr",
     "output_type": "stream",
     "text": [
      "\r",
      "[Stage 6:>                                                          (0 + 1) / 1]\r"
     ]
    },
    {
     "name": "stdout",
     "output_type": "stream",
     "text": [
      "+-----+-----+\n",
      "|Churn|count|\n",
      "+-----+-----+\n",
      "|  Sim| 5174|\n",
      "|  Nao| 5174|\n",
      "+-----+-----+\n",
      "\n"
     ]
    },
    {
     "name": "stderr",
     "output_type": "stream",
     "text": [
      "\r",
      "                                                                                \r"
     ]
    }
   ],
   "source": [
    "(dados\n",
    "     .select('Churn')\n",
    "     .groupBy('Churn')\n",
    "     .count()\n",
    "     .show()\n",
    ")"
   ]
  },
  {
   "cell_type": "code",
   "execution_count": 9,
   "metadata": {
    "colab": {
     "base_uri": "https://localhost:8080/"
    },
    "id": "K18E1wBo9A8P",
    "outputId": "be6e7041-80f8-4527-d56a-4ba93e57ace7"
   },
   "outputs": [
    {
     "name": "stdout",
     "output_type": "stream",
     "text": [
      "root\n",
      " |-- id: integer (nullable = true)\n",
      " |-- Churn: string (nullable = true)\n",
      " |-- Mais65anos: integer (nullable = true)\n",
      " |-- Conjuge: string (nullable = true)\n",
      " |-- Dependentes: string (nullable = true)\n",
      " |-- MesesDeContrato: integer (nullable = true)\n",
      " |-- TelefoneFixo: string (nullable = true)\n",
      " |-- MaisDeUmaLinhaTelefonica: string (nullable = true)\n",
      " |-- Internet: string (nullable = true)\n",
      " |-- SegurancaOnline: string (nullable = true)\n",
      " |-- BackupOnline: string (nullable = true)\n",
      " |-- SeguroDispositivo: string (nullable = true)\n",
      " |-- SuporteTecnico: string (nullable = true)\n",
      " |-- TVaCabo: string (nullable = true)\n",
      " |-- StreamingFilmes: string (nullable = true)\n",
      " |-- TipoContrato: string (nullable = true)\n",
      " |-- ContaCorreio: string (nullable = true)\n",
      " |-- MetodoPagamento: string (nullable = true)\n",
      " |-- MesesCobrados: double (nullable = true)\n",
      "\n"
     ]
    }
   ],
   "source": [
    "dados.printSchema()"
   ]
  },
  {
   "cell_type": "markdown",
   "metadata": {
    "id": "blFAMaSBVV2u"
   },
   "source": [
    "## **1.4 Transformando os Dados**\n",
    "\n",
    "<font size=2>**Fonte:** [Functions](https://spark.apache.org/docs/latest/api/python/reference/pyspark.sql.html#functions)</font>"
   ]
  },
  {
   "cell_type": "code",
   "execution_count": 10,
   "metadata": {
    "id": "mTav14ezr0Uf"
   },
   "outputs": [],
   "source": [
    "colunasBinarias = [\n",
    "    'Churn',\n",
    "    'Conjuge',\n",
    "    'Dependentes',\n",
    "    'TelefoneFixo',\n",
    "    'MaisDeUmaLinhaTelefonica',\n",
    "    'SegurancaOnline',\n",
    "    'BackupOnline',\n",
    "    'SeguroDispositivo',\n",
    "    'SuporteTecnico',\n",
    "    'TVaCabo',\n",
    "    'StreamingFilmes',\n",
    "    'ContaCorreio'\n",
    "]"
   ]
  },
  {
   "cell_type": "code",
   "execution_count": 11,
   "metadata": {
    "id": "DokzQv2rsnbC"
   },
   "outputs": [],
   "source": [
    "from pyspark.sql import functions as f"
   ]
  },
  {
   "cell_type": "code",
   "execution_count": 12,
   "metadata": {
    "colab": {
     "base_uri": "https://localhost:8080/"
    },
    "id": "sqW_vtly9rw0",
    "outputId": "048f9aca-252b-4380-cdc9-dd76254a4ed1"
   },
   "outputs": [
    {
     "data": {
      "text/plain": [
       "['id',\n",
       " 'Mais65anos',\n",
       " 'MesesDeContrato',\n",
       " 'Internet',\n",
       " 'TipoContrato',\n",
       " 'MetodoPagamento',\n",
       " 'MesesCobrados',\n",
       " Column<'CASE WHEN (Churn = Sim) THEN 1 ELSE 0 END AS Churn'>,\n",
       " Column<'CASE WHEN (Conjuge = Sim) THEN 1 ELSE 0 END AS Conjuge'>,\n",
       " Column<'CASE WHEN (Dependentes = Sim) THEN 1 ELSE 0 END AS Dependentes'>,\n",
       " Column<'CASE WHEN (TelefoneFixo = Sim) THEN 1 ELSE 0 END AS TelefoneFixo'>,\n",
       " Column<'CASE WHEN (MaisDeUmaLinhaTelefonica = Sim) THEN 1 ELSE 0 END AS MaisDeUmaLinhaTelefonica'>,\n",
       " Column<'CASE WHEN (SegurancaOnline = Sim) THEN 1 ELSE 0 END AS SegurancaOnline'>,\n",
       " Column<'CASE WHEN (BackupOnline = Sim) THEN 1 ELSE 0 END AS BackupOnline'>,\n",
       " Column<'CASE WHEN (SeguroDispositivo = Sim) THEN 1 ELSE 0 END AS SeguroDispositivo'>,\n",
       " Column<'CASE WHEN (SuporteTecnico = Sim) THEN 1 ELSE 0 END AS SuporteTecnico'>,\n",
       " Column<'CASE WHEN (TVaCabo = Sim) THEN 1 ELSE 0 END AS TVaCabo'>,\n",
       " Column<'CASE WHEN (StreamingFilmes = Sim) THEN 1 ELSE 0 END AS StreamingFilmes'>,\n",
       " Column<'CASE WHEN (ContaCorreio = Sim) THEN 1 ELSE 0 END AS ContaCorreio'>]"
      ]
     },
     "execution_count": 12,
     "metadata": {},
     "output_type": "execute_result"
    }
   ],
   "source": [
    "todasColunas = [f.when(f.col(c)=='Sim', 1).otherwise(0).alias(c) for c in colunasBinarias]\n",
    "for coluna in reversed(dados.columns):\n",
    "  if coluna not in colunasBinarias:\n",
    "    todasColunas.insert(0, coluna)\n",
    "todasColunas"
   ]
  },
  {
   "cell_type": "code",
   "execution_count": 13,
   "metadata": {
    "colab": {
     "base_uri": "https://localhost:8080/"
    },
    "id": "lhAyVrcFmKYT",
    "outputId": "92cbb80f-b276-417b-dbab-c553900aa1f6"
   },
   "outputs": [
    {
     "data": {
      "text/html": [
       "<div>\n",
       "<style scoped>\n",
       "    .dataframe tbody tr th:only-of-type {\n",
       "        vertical-align: middle;\n",
       "    }\n",
       "\n",
       "    .dataframe tbody tr th {\n",
       "        vertical-align: top;\n",
       "    }\n",
       "\n",
       "    .dataframe thead th {\n",
       "        text-align: right;\n",
       "    }\n",
       "</style>\n",
       "<table border=\"1\" class=\"dataframe\">\n",
       "  <thead>\n",
       "    <tr style=\"text-align: right;\">\n",
       "      <th></th>\n",
       "      <th>id</th>\n",
       "      <th>Mais65anos</th>\n",
       "      <th>MesesDeContrato</th>\n",
       "      <th>Internet</th>\n",
       "      <th>TipoContrato</th>\n",
       "      <th>MetodoPagamento</th>\n",
       "      <th>MesesCobrados</th>\n",
       "      <th>Churn</th>\n",
       "      <th>Conjuge</th>\n",
       "      <th>Dependentes</th>\n",
       "      <th>TelefoneFixo</th>\n",
       "      <th>MaisDeUmaLinhaTelefonica</th>\n",
       "      <th>SegurancaOnline</th>\n",
       "      <th>BackupOnline</th>\n",
       "      <th>SeguroDispositivo</th>\n",
       "      <th>SuporteTecnico</th>\n",
       "      <th>TVaCabo</th>\n",
       "      <th>StreamingFilmes</th>\n",
       "      <th>ContaCorreio</th>\n",
       "    </tr>\n",
       "  </thead>\n",
       "  <tbody>\n",
       "    <tr>\n",
       "      <th>0</th>\n",
       "      <td>0</td>\n",
       "      <td>0</td>\n",
       "      <td>1</td>\n",
       "      <td>DSL</td>\n",
       "      <td>Mensalmente</td>\n",
       "      <td>BoletoEletronico</td>\n",
       "      <td>29.85</td>\n",
       "      <td>0</td>\n",
       "      <td>1</td>\n",
       "      <td>0</td>\n",
       "      <td>0</td>\n",
       "      <td>0</td>\n",
       "      <td>0</td>\n",
       "      <td>1</td>\n",
       "      <td>0</td>\n",
       "      <td>0</td>\n",
       "      <td>0</td>\n",
       "      <td>0</td>\n",
       "      <td>1</td>\n",
       "    </tr>\n",
       "    <tr>\n",
       "      <th>1</th>\n",
       "      <td>1</td>\n",
       "      <td>0</td>\n",
       "      <td>34</td>\n",
       "      <td>DSL</td>\n",
       "      <td>UmAno</td>\n",
       "      <td>Boleto</td>\n",
       "      <td>56.95</td>\n",
       "      <td>0</td>\n",
       "      <td>0</td>\n",
       "      <td>0</td>\n",
       "      <td>1</td>\n",
       "      <td>0</td>\n",
       "      <td>1</td>\n",
       "      <td>0</td>\n",
       "      <td>1</td>\n",
       "      <td>0</td>\n",
       "      <td>0</td>\n",
       "      <td>0</td>\n",
       "      <td>0</td>\n",
       "    </tr>\n",
       "    <tr>\n",
       "      <th>2</th>\n",
       "      <td>2</td>\n",
       "      <td>0</td>\n",
       "      <td>2</td>\n",
       "      <td>DSL</td>\n",
       "      <td>Mensalmente</td>\n",
       "      <td>Boleto</td>\n",
       "      <td>53.85</td>\n",
       "      <td>1</td>\n",
       "      <td>0</td>\n",
       "      <td>0</td>\n",
       "      <td>1</td>\n",
       "      <td>0</td>\n",
       "      <td>1</td>\n",
       "      <td>1</td>\n",
       "      <td>0</td>\n",
       "      <td>0</td>\n",
       "      <td>0</td>\n",
       "      <td>0</td>\n",
       "      <td>1</td>\n",
       "    </tr>\n",
       "    <tr>\n",
       "      <th>3</th>\n",
       "      <td>3</td>\n",
       "      <td>0</td>\n",
       "      <td>45</td>\n",
       "      <td>DSL</td>\n",
       "      <td>UmAno</td>\n",
       "      <td>DebitoEmConta</td>\n",
       "      <td>42.30</td>\n",
       "      <td>0</td>\n",
       "      <td>0</td>\n",
       "      <td>0</td>\n",
       "      <td>0</td>\n",
       "      <td>0</td>\n",
       "      <td>1</td>\n",
       "      <td>0</td>\n",
       "      <td>1</td>\n",
       "      <td>1</td>\n",
       "      <td>0</td>\n",
       "      <td>0</td>\n",
       "      <td>0</td>\n",
       "    </tr>\n",
       "    <tr>\n",
       "      <th>4</th>\n",
       "      <td>4</td>\n",
       "      <td>0</td>\n",
       "      <td>2</td>\n",
       "      <td>FibraOptica</td>\n",
       "      <td>Mensalmente</td>\n",
       "      <td>BoletoEletronico</td>\n",
       "      <td>70.70</td>\n",
       "      <td>1</td>\n",
       "      <td>0</td>\n",
       "      <td>0</td>\n",
       "      <td>1</td>\n",
       "      <td>0</td>\n",
       "      <td>0</td>\n",
       "      <td>0</td>\n",
       "      <td>0</td>\n",
       "      <td>0</td>\n",
       "      <td>0</td>\n",
       "      <td>0</td>\n",
       "      <td>1</td>\n",
       "    </tr>\n",
       "  </tbody>\n",
       "</table>\n",
       "</div>"
      ],
      "text/plain": [
       "   id  Mais65anos  MesesDeContrato     Internet TipoContrato  \\\n",
       "0   0           0                1          DSL  Mensalmente   \n",
       "1   1           0               34          DSL        UmAno   \n",
       "2   2           0                2          DSL  Mensalmente   \n",
       "3   3           0               45          DSL        UmAno   \n",
       "4   4           0                2  FibraOptica  Mensalmente   \n",
       "\n",
       "    MetodoPagamento  MesesCobrados  Churn  Conjuge  Dependentes  TelefoneFixo  \\\n",
       "0  BoletoEletronico          29.85      0        1            0             0   \n",
       "1            Boleto          56.95      0        0            0             1   \n",
       "2            Boleto          53.85      1        0            0             1   \n",
       "3     DebitoEmConta          42.30      0        0            0             0   \n",
       "4  BoletoEletronico          70.70      1        0            0             1   \n",
       "\n",
       "   MaisDeUmaLinhaTelefonica  SegurancaOnline  BackupOnline  SeguroDispositivo  \\\n",
       "0                         0                0             1                  0   \n",
       "1                         0                1             0                  1   \n",
       "2                         0                1             1                  0   \n",
       "3                         0                1             0                  1   \n",
       "4                         0                0             0                  0   \n",
       "\n",
       "   SuporteTecnico  TVaCabo  StreamingFilmes  ContaCorreio  \n",
       "0               0        0                0             1  \n",
       "1               0        0                0             0  \n",
       "2               0        0                0             1  \n",
       "3               1        0                0             0  \n",
       "4               0        0                0             1  "
      ]
     },
     "execution_count": 13,
     "metadata": {},
     "output_type": "execute_result"
    }
   ],
   "source": [
    "(dados\n",
    "     .select(todasColunas)\n",
    "     .limit(5)\n",
    "     .toPandas()\n",
    ")"
   ]
  },
  {
   "cell_type": "code",
   "execution_count": 14,
   "metadata": {
    "id": "Mhp-2cRy70mI"
   },
   "outputs": [],
   "source": [
    "dataset = dados.select(todasColunas)"
   ]
  },
  {
   "cell_type": "code",
   "execution_count": 15,
   "metadata": {
    "colab": {
     "base_uri": "https://localhost:8080/"
    },
    "id": "TEpK0IXUs2BF",
    "outputId": "fdb002e5-4e28-45e9-8e63-128e63d6333d"
   },
   "outputs": [
    {
     "data": {
      "text/html": [
       "<div>\n",
       "<style scoped>\n",
       "    .dataframe tbody tr th:only-of-type {\n",
       "        vertical-align: middle;\n",
       "    }\n",
       "\n",
       "    .dataframe tbody tr th {\n",
       "        vertical-align: top;\n",
       "    }\n",
       "\n",
       "    .dataframe thead th {\n",
       "        text-align: right;\n",
       "    }\n",
       "</style>\n",
       "<table border=\"1\" class=\"dataframe\">\n",
       "  <thead>\n",
       "    <tr style=\"text-align: right;\">\n",
       "      <th></th>\n",
       "      <th>id</th>\n",
       "      <th>Mais65anos</th>\n",
       "      <th>MesesDeContrato</th>\n",
       "      <th>Internet</th>\n",
       "      <th>TipoContrato</th>\n",
       "      <th>MetodoPagamento</th>\n",
       "      <th>MesesCobrados</th>\n",
       "      <th>Churn</th>\n",
       "      <th>Conjuge</th>\n",
       "      <th>Dependentes</th>\n",
       "      <th>TelefoneFixo</th>\n",
       "      <th>MaisDeUmaLinhaTelefonica</th>\n",
       "      <th>SegurancaOnline</th>\n",
       "      <th>BackupOnline</th>\n",
       "      <th>SeguroDispositivo</th>\n",
       "      <th>SuporteTecnico</th>\n",
       "      <th>TVaCabo</th>\n",
       "      <th>StreamingFilmes</th>\n",
       "      <th>ContaCorreio</th>\n",
       "    </tr>\n",
       "  </thead>\n",
       "  <tbody>\n",
       "    <tr>\n",
       "      <th>0</th>\n",
       "      <td>0</td>\n",
       "      <td>0</td>\n",
       "      <td>1</td>\n",
       "      <td>DSL</td>\n",
       "      <td>Mensalmente</td>\n",
       "      <td>BoletoEletronico</td>\n",
       "      <td>29.85</td>\n",
       "      <td>0</td>\n",
       "      <td>1</td>\n",
       "      <td>0</td>\n",
       "      <td>0</td>\n",
       "      <td>0</td>\n",
       "      <td>0</td>\n",
       "      <td>1</td>\n",
       "      <td>0</td>\n",
       "      <td>0</td>\n",
       "      <td>0</td>\n",
       "      <td>0</td>\n",
       "      <td>1</td>\n",
       "    </tr>\n",
       "    <tr>\n",
       "      <th>1</th>\n",
       "      <td>1</td>\n",
       "      <td>0</td>\n",
       "      <td>34</td>\n",
       "      <td>DSL</td>\n",
       "      <td>UmAno</td>\n",
       "      <td>Boleto</td>\n",
       "      <td>56.95</td>\n",
       "      <td>0</td>\n",
       "      <td>0</td>\n",
       "      <td>0</td>\n",
       "      <td>1</td>\n",
       "      <td>0</td>\n",
       "      <td>1</td>\n",
       "      <td>0</td>\n",
       "      <td>1</td>\n",
       "      <td>0</td>\n",
       "      <td>0</td>\n",
       "      <td>0</td>\n",
       "      <td>0</td>\n",
       "    </tr>\n",
       "    <tr>\n",
       "      <th>2</th>\n",
       "      <td>2</td>\n",
       "      <td>0</td>\n",
       "      <td>2</td>\n",
       "      <td>DSL</td>\n",
       "      <td>Mensalmente</td>\n",
       "      <td>Boleto</td>\n",
       "      <td>53.85</td>\n",
       "      <td>1</td>\n",
       "      <td>0</td>\n",
       "      <td>0</td>\n",
       "      <td>1</td>\n",
       "      <td>0</td>\n",
       "      <td>1</td>\n",
       "      <td>1</td>\n",
       "      <td>0</td>\n",
       "      <td>0</td>\n",
       "      <td>0</td>\n",
       "      <td>0</td>\n",
       "      <td>1</td>\n",
       "    </tr>\n",
       "    <tr>\n",
       "      <th>3</th>\n",
       "      <td>3</td>\n",
       "      <td>0</td>\n",
       "      <td>45</td>\n",
       "      <td>DSL</td>\n",
       "      <td>UmAno</td>\n",
       "      <td>DebitoEmConta</td>\n",
       "      <td>42.30</td>\n",
       "      <td>0</td>\n",
       "      <td>0</td>\n",
       "      <td>0</td>\n",
       "      <td>0</td>\n",
       "      <td>0</td>\n",
       "      <td>1</td>\n",
       "      <td>0</td>\n",
       "      <td>1</td>\n",
       "      <td>1</td>\n",
       "      <td>0</td>\n",
       "      <td>0</td>\n",
       "      <td>0</td>\n",
       "    </tr>\n",
       "    <tr>\n",
       "      <th>4</th>\n",
       "      <td>4</td>\n",
       "      <td>0</td>\n",
       "      <td>2</td>\n",
       "      <td>FibraOptica</td>\n",
       "      <td>Mensalmente</td>\n",
       "      <td>BoletoEletronico</td>\n",
       "      <td>70.70</td>\n",
       "      <td>1</td>\n",
       "      <td>0</td>\n",
       "      <td>0</td>\n",
       "      <td>1</td>\n",
       "      <td>0</td>\n",
       "      <td>0</td>\n",
       "      <td>0</td>\n",
       "      <td>0</td>\n",
       "      <td>0</td>\n",
       "      <td>0</td>\n",
       "      <td>0</td>\n",
       "      <td>1</td>\n",
       "    </tr>\n",
       "  </tbody>\n",
       "</table>\n",
       "</div>"
      ],
      "text/plain": [
       "   id  Mais65anos  MesesDeContrato     Internet TipoContrato  \\\n",
       "0   0           0                1          DSL  Mensalmente   \n",
       "1   1           0               34          DSL        UmAno   \n",
       "2   2           0                2          DSL  Mensalmente   \n",
       "3   3           0               45          DSL        UmAno   \n",
       "4   4           0                2  FibraOptica  Mensalmente   \n",
       "\n",
       "    MetodoPagamento  MesesCobrados  Churn  Conjuge  Dependentes  TelefoneFixo  \\\n",
       "0  BoletoEletronico          29.85      0        1            0             0   \n",
       "1            Boleto          56.95      0        0            0             1   \n",
       "2            Boleto          53.85      1        0            0             1   \n",
       "3     DebitoEmConta          42.30      0        0            0             0   \n",
       "4  BoletoEletronico          70.70      1        0            0             1   \n",
       "\n",
       "   MaisDeUmaLinhaTelefonica  SegurancaOnline  BackupOnline  SeguroDispositivo  \\\n",
       "0                         0                0             1                  0   \n",
       "1                         0                1             0                  1   \n",
       "2                         0                1             1                  0   \n",
       "3                         0                1             0                  1   \n",
       "4                         0                0             0                  0   \n",
       "\n",
       "   SuporteTecnico  TVaCabo  StreamingFilmes  ContaCorreio  \n",
       "0               0        0                0             1  \n",
       "1               0        0                0             0  \n",
       "2               0        0                0             1  \n",
       "3               1        0                0             0  \n",
       "4               0        0                0             1  "
      ]
     },
     "execution_count": 15,
     "metadata": {},
     "output_type": "execute_result"
    }
   ],
   "source": [
    "dataset.limit(5).toPandas()"
   ]
  },
  {
   "cell_type": "markdown",
   "metadata": {
    "id": "FLn2a7ym7MLp"
   },
   "source": [
    "## **1.5 Criando *Dummies***"
   ]
  },
  {
   "cell_type": "code",
   "execution_count": 16,
   "metadata": {
    "colab": {
     "base_uri": "https://localhost:8080/"
    },
    "id": "E_Hs2oXj9-pq",
    "outputId": "28c84b84-43c1-4b0c-9a65-a67345b65997"
   },
   "outputs": [
    {
     "name": "stdout",
     "output_type": "stream",
     "text": [
      "root\n",
      " |-- id: integer (nullable = true)\n",
      " |-- Mais65anos: integer (nullable = true)\n",
      " |-- MesesDeContrato: integer (nullable = true)\n",
      " |-- Internet: string (nullable = true)\n",
      " |-- TipoContrato: string (nullable = true)\n",
      " |-- MetodoPagamento: string (nullable = true)\n",
      " |-- MesesCobrados: double (nullable = true)\n",
      " |-- Churn: integer (nullable = false)\n",
      " |-- Conjuge: integer (nullable = false)\n",
      " |-- Dependentes: integer (nullable = false)\n",
      " |-- TelefoneFixo: integer (nullable = false)\n",
      " |-- MaisDeUmaLinhaTelefonica: integer (nullable = false)\n",
      " |-- SegurancaOnline: integer (nullable = false)\n",
      " |-- BackupOnline: integer (nullable = false)\n",
      " |-- SeguroDispositivo: integer (nullable = false)\n",
      " |-- SuporteTecnico: integer (nullable = false)\n",
      " |-- TVaCabo: integer (nullable = false)\n",
      " |-- StreamingFilmes: integer (nullable = false)\n",
      " |-- ContaCorreio: integer (nullable = false)\n",
      "\n"
     ]
    }
   ],
   "source": [
    "dataset.printSchema()"
   ]
  },
  {
   "cell_type": "code",
   "execution_count": 17,
   "metadata": {
    "colab": {
     "base_uri": "https://localhost:8080/"
    },
    "id": "DFJx294nMCit",
    "outputId": "01141cdb-31d1-4d77-9810-c1b451a83379"
   },
   "outputs": [
    {
     "name": "stderr",
     "output_type": "stream",
     "text": [
      "\r",
      "[Stage 11:>                                                         (0 + 1) / 1]\r"
     ]
    },
    {
     "name": "stdout",
     "output_type": "stream",
     "text": [
      "+-----------+------------+----------------+\n",
      "|   Internet|TipoContrato| MetodoPagamento|\n",
      "+-----------+------------+----------------+\n",
      "|        DSL| Mensalmente|BoletoEletronico|\n",
      "|        DSL|       UmAno|          Boleto|\n",
      "|        DSL| Mensalmente|          Boleto|\n",
      "|        DSL|       UmAno|   DebitoEmConta|\n",
      "|FibraOptica| Mensalmente|BoletoEletronico|\n",
      "|FibraOptica| Mensalmente|BoletoEletronico|\n",
      "|FibraOptica| Mensalmente|   CartaoCredito|\n",
      "|        DSL| Mensalmente|          Boleto|\n",
      "|FibraOptica| Mensalmente|BoletoEletronico|\n",
      "|        DSL|       UmAno|   DebitoEmConta|\n",
      "|        DSL| Mensalmente|          Boleto|\n",
      "|        Nao|    DoisAnos|   CartaoCredito|\n",
      "|FibraOptica|       UmAno|   CartaoCredito|\n",
      "|FibraOptica| Mensalmente|   DebitoEmConta|\n",
      "|FibraOptica| Mensalmente|BoletoEletronico|\n",
      "|FibraOptica|    DoisAnos|   CartaoCredito|\n",
      "|        Nao|       UmAno|          Boleto|\n",
      "|FibraOptica|    DoisAnos|   DebitoEmConta|\n",
      "|        DSL| Mensalmente|   CartaoCredito|\n",
      "|FibraOptica| Mensalmente|BoletoEletronico|\n",
      "+-----------+------------+----------------+\n",
      "only showing top 20 rows\n",
      "\n"
     ]
    },
    {
     "name": "stderr",
     "output_type": "stream",
     "text": [
      "\r",
      "                                                                                \r"
     ]
    }
   ],
   "source": [
    "dataset.select(['Internet',\n",
    "                'TipoContrato',\n",
    "                'MetodoPagamento']).show()"
   ]
  },
  {
   "cell_type": "code",
   "execution_count": 18,
   "metadata": {
    "colab": {
     "base_uri": "https://localhost:8080/"
    },
    "id": "jHb0pPZXPrYa",
    "outputId": "42d4515d-7378-4362-c650-59718de82c18"
   },
   "outputs": [
    {
     "name": "stderr",
     "output_type": "stream",
     "text": [
      "[Stage 18:>                                                         (0 + 1) / 1]\r"
     ]
    },
    {
     "name": "stdout",
     "output_type": "stream",
     "text": [
      "+-----+------+----------------+-------------+-------------+\n",
      "|   id|Boleto|BoletoEletronico|CartaoCredito|DebitoEmConta|\n",
      "+-----+------+----------------+-------------+-------------+\n",
      "| 3997|     0|               0|            1|            0|\n",
      "| 7554|     0|               1|            0|            0|\n",
      "| 6336|     0|               1|            0|            0|\n",
      "| 6357|     0|               1|            0|            0|\n",
      "| 9427|     0|               0|            1|            0|\n",
      "| 2659|     0|               0|            1|            0|\n",
      "|  471|     0|               1|            0|            0|\n",
      "| 4935|     0|               0|            1|            0|\n",
      "| 4818|     0|               0|            1|            0|\n",
      "| 1342|     1|               0|            0|            0|\n",
      "| 1959|     0|               1|            0|            0|\n",
      "| 9376|     0|               0|            1|            0|\n",
      "| 2366|     0|               1|            0|            0|\n",
      "| 1580|     0|               0|            0|            1|\n",
      "| 9900|     0|               1|            0|            0|\n",
      "| 9852|     1|               0|            0|            0|\n",
      "| 3918|     0|               1|            0|            0|\n",
      "| 7880|     0|               1|            0|            0|\n",
      "| 1238|     0|               1|            0|            0|\n",
      "|10206|     0|               1|            0|            0|\n",
      "+-----+------+----------------+-------------+-------------+\n",
      "only showing top 20 rows\n",
      "\n"
     ]
    },
    {
     "name": "stderr",
     "output_type": "stream",
     "text": [
      "\r",
      "                                                                                \r"
     ]
    }
   ],
   "source": [
    "(dataset\n",
    "     .groupBy('id')\n",
    "     .pivot('MetodoPagamento')\n",
    "     .agg(f.lit(1))\n",
    "     .na\n",
    "     .fill(0)\n",
    "     .show())"
   ]
  },
  {
   "cell_type": "code",
   "execution_count": 19,
   "metadata": {
    "id": "B1FK7TOmRSYF"
   },
   "outputs": [],
   "source": [
    "Internet = dataset.groupBy('id').pivot('Internet').agg(f.lit(1)).na.fill(0)\n",
    "TipoContrato = dataset.groupBy('id').pivot('TipoContrato').agg(f.lit(1)).na.fill(0)\n",
    "MetodoPagamento = dataset.groupBy('id').pivot('MetodoPagamento').agg(f.lit(1)).na.fill(0)"
   ]
  },
  {
   "cell_type": "code",
   "execution_count": 20,
   "metadata": {
    "colab": {
     "base_uri": "https://localhost:8080/"
    },
    "id": "HVfjs5MBw5-a",
    "outputId": "547e143e-d074-4e88-8c12-e6d39d9307dc"
   },
   "outputs": [
    {
     "name": "stderr",
     "output_type": "stream",
     "text": [
      "23/01/04 08:12:50 WARN package: Truncated the string representation of a plan since it was too large. This behavior can be adjusted by setting 'spark.sql.debug.maxToStringFields'.\n",
      "                                                                                \r"
     ]
    },
    {
     "data": {
      "text/html": [
       "<div>\n",
       "<style scoped>\n",
       "    .dataframe tbody tr th:only-of-type {\n",
       "        vertical-align: middle;\n",
       "    }\n",
       "\n",
       "    .dataframe tbody tr th {\n",
       "        vertical-align: top;\n",
       "    }\n",
       "\n",
       "    .dataframe thead th {\n",
       "        text-align: right;\n",
       "    }\n",
       "</style>\n",
       "<table border=\"1\" class=\"dataframe\">\n",
       "  <thead>\n",
       "    <tr style=\"text-align: right;\">\n",
       "      <th></th>\n",
       "      <th>id</th>\n",
       "      <th>Mais65anos</th>\n",
       "      <th>MesesDeContrato</th>\n",
       "      <th>MesesCobrados</th>\n",
       "      <th>Churn</th>\n",
       "      <th>Conjuge</th>\n",
       "      <th>Dependentes</th>\n",
       "      <th>TelefoneFixo</th>\n",
       "      <th>MaisDeUmaLinhaTelefonica</th>\n",
       "      <th>SegurancaOnline</th>\n",
       "      <th>...</th>\n",
       "      <th>Internet_DSL</th>\n",
       "      <th>Internet_FibraOptica</th>\n",
       "      <th>Internet_Nao</th>\n",
       "      <th>TipoContrato_Mensalmente</th>\n",
       "      <th>TipoContrato_UmAno</th>\n",
       "      <th>TipoContrato_DoisAnos</th>\n",
       "      <th>MetodoPagamento_DebitoEmConta</th>\n",
       "      <th>MetodoPagamento_CartaoCredito</th>\n",
       "      <th>MetodoPagamento_BoletoEletronico</th>\n",
       "      <th>MetodoPagamento_Boleto</th>\n",
       "    </tr>\n",
       "  </thead>\n",
       "  <tbody>\n",
       "    <tr>\n",
       "      <th>0</th>\n",
       "      <td>7982</td>\n",
       "      <td>0</td>\n",
       "      <td>1</td>\n",
       "      <td>45.305408</td>\n",
       "      <td>1</td>\n",
       "      <td>0</td>\n",
       "      <td>0</td>\n",
       "      <td>0</td>\n",
       "      <td>0</td>\n",
       "      <td>0</td>\n",
       "      <td>...</td>\n",
       "      <td>1</td>\n",
       "      <td>0</td>\n",
       "      <td>0</td>\n",
       "      <td>1</td>\n",
       "      <td>0</td>\n",
       "      <td>0</td>\n",
       "      <td>0</td>\n",
       "      <td>0</td>\n",
       "      <td>1</td>\n",
       "      <td>0</td>\n",
       "    </tr>\n",
       "    <tr>\n",
       "      <th>1</th>\n",
       "      <td>9465</td>\n",
       "      <td>0</td>\n",
       "      <td>60</td>\n",
       "      <td>103.614223</td>\n",
       "      <td>1</td>\n",
       "      <td>1</td>\n",
       "      <td>0</td>\n",
       "      <td>1</td>\n",
       "      <td>1</td>\n",
       "      <td>0</td>\n",
       "      <td>...</td>\n",
       "      <td>0</td>\n",
       "      <td>1</td>\n",
       "      <td>0</td>\n",
       "      <td>1</td>\n",
       "      <td>0</td>\n",
       "      <td>0</td>\n",
       "      <td>0</td>\n",
       "      <td>0</td>\n",
       "      <td>1</td>\n",
       "      <td>0</td>\n",
       "    </tr>\n",
       "    <tr>\n",
       "      <th>2</th>\n",
       "      <td>2122</td>\n",
       "      <td>0</td>\n",
       "      <td>12</td>\n",
       "      <td>75.850000</td>\n",
       "      <td>0</td>\n",
       "      <td>0</td>\n",
       "      <td>0</td>\n",
       "      <td>1</td>\n",
       "      <td>1</td>\n",
       "      <td>0</td>\n",
       "      <td>...</td>\n",
       "      <td>1</td>\n",
       "      <td>0</td>\n",
       "      <td>0</td>\n",
       "      <td>0</td>\n",
       "      <td>1</td>\n",
       "      <td>0</td>\n",
       "      <td>0</td>\n",
       "      <td>0</td>\n",
       "      <td>0</td>\n",
       "      <td>1</td>\n",
       "    </tr>\n",
       "    <tr>\n",
       "      <th>3</th>\n",
       "      <td>3997</td>\n",
       "      <td>0</td>\n",
       "      <td>69</td>\n",
       "      <td>61.450000</td>\n",
       "      <td>0</td>\n",
       "      <td>1</td>\n",
       "      <td>0</td>\n",
       "      <td>1</td>\n",
       "      <td>0</td>\n",
       "      <td>0</td>\n",
       "      <td>...</td>\n",
       "      <td>1</td>\n",
       "      <td>0</td>\n",
       "      <td>0</td>\n",
       "      <td>0</td>\n",
       "      <td>0</td>\n",
       "      <td>1</td>\n",
       "      <td>0</td>\n",
       "      <td>1</td>\n",
       "      <td>0</td>\n",
       "      <td>0</td>\n",
       "    </tr>\n",
       "    <tr>\n",
       "      <th>4</th>\n",
       "      <td>6654</td>\n",
       "      <td>0</td>\n",
       "      <td>7</td>\n",
       "      <td>86.500000</td>\n",
       "      <td>1</td>\n",
       "      <td>1</td>\n",
       "      <td>0</td>\n",
       "      <td>1</td>\n",
       "      <td>1</td>\n",
       "      <td>0</td>\n",
       "      <td>...</td>\n",
       "      <td>0</td>\n",
       "      <td>1</td>\n",
       "      <td>0</td>\n",
       "      <td>1</td>\n",
       "      <td>0</td>\n",
       "      <td>0</td>\n",
       "      <td>0</td>\n",
       "      <td>0</td>\n",
       "      <td>1</td>\n",
       "      <td>0</td>\n",
       "    </tr>\n",
       "  </tbody>\n",
       "</table>\n",
       "<p>5 rows × 26 columns</p>\n",
       "</div>"
      ],
      "text/plain": [
       "     id  Mais65anos  MesesDeContrato  MesesCobrados  Churn  Conjuge  \\\n",
       "0  7982           0                1      45.305408      1        0   \n",
       "1  9465           0               60     103.614223      1        1   \n",
       "2  2122           0               12      75.850000      0        0   \n",
       "3  3997           0               69      61.450000      0        1   \n",
       "4  6654           0                7      86.500000      1        1   \n",
       "\n",
       "   Dependentes  TelefoneFixo  MaisDeUmaLinhaTelefonica  SegurancaOnline  ...  \\\n",
       "0            0             0                         0                0  ...   \n",
       "1            0             1                         1                0  ...   \n",
       "2            0             1                         1                0  ...   \n",
       "3            0             1                         0                0  ...   \n",
       "4            0             1                         1                0  ...   \n",
       "\n",
       "   Internet_DSL  Internet_FibraOptica  Internet_Nao  TipoContrato_Mensalmente  \\\n",
       "0             1                     0             0                         1   \n",
       "1             0                     1             0                         1   \n",
       "2             1                     0             0                         0   \n",
       "3             1                     0             0                         0   \n",
       "4             0                     1             0                         1   \n",
       "\n",
       "   TipoContrato_UmAno  TipoContrato_DoisAnos  MetodoPagamento_DebitoEmConta  \\\n",
       "0                   0                      0                              0   \n",
       "1                   0                      0                              0   \n",
       "2                   1                      0                              0   \n",
       "3                   0                      1                              0   \n",
       "4                   0                      0                              0   \n",
       "\n",
       "   MetodoPagamento_CartaoCredito  MetodoPagamento_BoletoEletronico  \\\n",
       "0                              0                                 1   \n",
       "1                              0                                 1   \n",
       "2                              0                                 0   \n",
       "3                              1                                 0   \n",
       "4                              0                                 1   \n",
       "\n",
       "   MetodoPagamento_Boleto  \n",
       "0                       0  \n",
       "1                       0  \n",
       "2                       1  \n",
       "3                       0  \n",
       "4                       0  \n",
       "\n",
       "[5 rows x 26 columns]"
      ]
     },
     "execution_count": 20,
     "metadata": {},
     "output_type": "execute_result"
    }
   ],
   "source": [
    "dataset\\\n",
    "    .join(Internet, 'id', how='inner')\\\n",
    "    .join(TipoContrato, 'id', how='inner')\\\n",
    "    .join(MetodoPagamento, 'id', how='inner')\\\n",
    "    .select(\n",
    "        '*',\n",
    "        f.col('DSL').alias('Internet_DSL'), \n",
    "        f.col('FibraOptica').alias('Internet_FibraOptica'), \n",
    "        f.col('Nao').alias('Internet_Nao'), \n",
    "        f.col('Mensalmente').alias('TipoContrato_Mensalmente'), \n",
    "        f.col('UmAno').alias('TipoContrato_UmAno'), \n",
    "        f.col('DoisAnos').alias('TipoContrato_DoisAnos'), \n",
    "        f.col('DebitoEmConta').alias('MetodoPagamento_DebitoEmConta'), \n",
    "        f.col('CartaoCredito').alias('MetodoPagamento_CartaoCredito'), \n",
    "        f.col('BoletoEletronico').alias('MetodoPagamento_BoletoEletronico'), \n",
    "        f.col('Boleto').alias('MetodoPagamento_Boleto')        \n",
    "    ).drop(\n",
    "        'Internet', 'TipoContrato', 'MetodoPagamento', 'DSL', \n",
    "        'FibraOptica', 'Nao', 'Mensalmente', 'UmAno', 'DoisAnos', \n",
    "        'DebitoEmConta', 'CartaoCredito', 'BoletoEletronico', 'Boleto'\n",
    "    ).limit(5).toPandas()"
   ]
  },
  {
   "cell_type": "code",
   "execution_count": 21,
   "metadata": {
    "id": "D58P834Tzd99"
   },
   "outputs": [],
   "source": [
    "dataset = dataset\\\n",
    "    .join(Internet, 'id', how='inner')\\\n",
    "    .join(TipoContrato, 'id', how='inner')\\\n",
    "    .join(MetodoPagamento, 'id', how='inner')\\\n",
    "    .select(\n",
    "        '*',\n",
    "        f.col('DSL').alias('Internet_DSL'), \n",
    "        f.col('FibraOptica').alias('Internet_FibraOptica'), \n",
    "        f.col('Nao').alias('Internet_Nao'), \n",
    "        f.col('Mensalmente').alias('TipoContrato_Mensalmente'), \n",
    "        f.col('UmAno').alias('TipoContrato_UmAno'), \n",
    "        f.col('DoisAnos').alias('TipoContrato_DoisAnos'), \n",
    "        f.col('DebitoEmConta').alias('MetodoPagamento_DebitoEmConta'), \n",
    "        f.col('CartaoCredito').alias('MetodoPagamento_CartaoCredito'), \n",
    "        f.col('BoletoEletronico').alias('MetodoPagamento_BoletoEletronico'), \n",
    "        f.col('Boleto').alias('MetodoPagamento_Boleto')        \n",
    "    ).drop(\n",
    "        'Internet', 'TipoContrato', 'MetodoPagamento', 'DSL', \n",
    "        'FibraOptica', 'Nao', 'Mensalmente', 'UmAno', 'DoisAnos', \n",
    "        'DebitoEmConta', 'CartaoCredito', 'BoletoEletronico', 'Boleto'\n",
    "    )"
   ]
  },
  {
   "cell_type": "code",
   "execution_count": 22,
   "metadata": {
    "colab": {
     "base_uri": "https://localhost:8080/"
    },
    "id": "Z5cSmXRCvmEC",
    "outputId": "0da9e33a-e82c-47e0-f3c3-5f78f9b30984"
   },
   "outputs": [
    {
     "name": "stderr",
     "output_type": "stream",
     "text": [
      "                                                                                \r"
     ]
    },
    {
     "data": {
      "text/html": [
       "<div>\n",
       "<style scoped>\n",
       "    .dataframe tbody tr th:only-of-type {\n",
       "        vertical-align: middle;\n",
       "    }\n",
       "\n",
       "    .dataframe tbody tr th {\n",
       "        vertical-align: top;\n",
       "    }\n",
       "\n",
       "    .dataframe thead th {\n",
       "        text-align: right;\n",
       "    }\n",
       "</style>\n",
       "<table border=\"1\" class=\"dataframe\">\n",
       "  <thead>\n",
       "    <tr style=\"text-align: right;\">\n",
       "      <th></th>\n",
       "      <th>id</th>\n",
       "      <th>Mais65anos</th>\n",
       "      <th>MesesDeContrato</th>\n",
       "      <th>MesesCobrados</th>\n",
       "      <th>Churn</th>\n",
       "      <th>Conjuge</th>\n",
       "      <th>Dependentes</th>\n",
       "      <th>TelefoneFixo</th>\n",
       "      <th>MaisDeUmaLinhaTelefonica</th>\n",
       "      <th>SegurancaOnline</th>\n",
       "      <th>...</th>\n",
       "      <th>Internet_DSL</th>\n",
       "      <th>Internet_FibraOptica</th>\n",
       "      <th>Internet_Nao</th>\n",
       "      <th>TipoContrato_Mensalmente</th>\n",
       "      <th>TipoContrato_UmAno</th>\n",
       "      <th>TipoContrato_DoisAnos</th>\n",
       "      <th>MetodoPagamento_DebitoEmConta</th>\n",
       "      <th>MetodoPagamento_CartaoCredito</th>\n",
       "      <th>MetodoPagamento_BoletoEletronico</th>\n",
       "      <th>MetodoPagamento_Boleto</th>\n",
       "    </tr>\n",
       "  </thead>\n",
       "  <tbody>\n",
       "    <tr>\n",
       "      <th>0</th>\n",
       "      <td>7982</td>\n",
       "      <td>0</td>\n",
       "      <td>1</td>\n",
       "      <td>45.305408</td>\n",
       "      <td>1</td>\n",
       "      <td>0</td>\n",
       "      <td>0</td>\n",
       "      <td>0</td>\n",
       "      <td>0</td>\n",
       "      <td>0</td>\n",
       "      <td>...</td>\n",
       "      <td>1</td>\n",
       "      <td>0</td>\n",
       "      <td>0</td>\n",
       "      <td>1</td>\n",
       "      <td>0</td>\n",
       "      <td>0</td>\n",
       "      <td>0</td>\n",
       "      <td>0</td>\n",
       "      <td>1</td>\n",
       "      <td>0</td>\n",
       "    </tr>\n",
       "    <tr>\n",
       "      <th>1</th>\n",
       "      <td>9465</td>\n",
       "      <td>0</td>\n",
       "      <td>60</td>\n",
       "      <td>103.614223</td>\n",
       "      <td>1</td>\n",
       "      <td>1</td>\n",
       "      <td>0</td>\n",
       "      <td>1</td>\n",
       "      <td>1</td>\n",
       "      <td>0</td>\n",
       "      <td>...</td>\n",
       "      <td>0</td>\n",
       "      <td>1</td>\n",
       "      <td>0</td>\n",
       "      <td>1</td>\n",
       "      <td>0</td>\n",
       "      <td>0</td>\n",
       "      <td>0</td>\n",
       "      <td>0</td>\n",
       "      <td>1</td>\n",
       "      <td>0</td>\n",
       "    </tr>\n",
       "    <tr>\n",
       "      <th>2</th>\n",
       "      <td>2122</td>\n",
       "      <td>0</td>\n",
       "      <td>12</td>\n",
       "      <td>75.850000</td>\n",
       "      <td>0</td>\n",
       "      <td>0</td>\n",
       "      <td>0</td>\n",
       "      <td>1</td>\n",
       "      <td>1</td>\n",
       "      <td>0</td>\n",
       "      <td>...</td>\n",
       "      <td>1</td>\n",
       "      <td>0</td>\n",
       "      <td>0</td>\n",
       "      <td>0</td>\n",
       "      <td>1</td>\n",
       "      <td>0</td>\n",
       "      <td>0</td>\n",
       "      <td>0</td>\n",
       "      <td>0</td>\n",
       "      <td>1</td>\n",
       "    </tr>\n",
       "    <tr>\n",
       "      <th>3</th>\n",
       "      <td>3997</td>\n",
       "      <td>0</td>\n",
       "      <td>69</td>\n",
       "      <td>61.450000</td>\n",
       "      <td>0</td>\n",
       "      <td>1</td>\n",
       "      <td>0</td>\n",
       "      <td>1</td>\n",
       "      <td>0</td>\n",
       "      <td>0</td>\n",
       "      <td>...</td>\n",
       "      <td>1</td>\n",
       "      <td>0</td>\n",
       "      <td>0</td>\n",
       "      <td>0</td>\n",
       "      <td>0</td>\n",
       "      <td>1</td>\n",
       "      <td>0</td>\n",
       "      <td>1</td>\n",
       "      <td>0</td>\n",
       "      <td>0</td>\n",
       "    </tr>\n",
       "    <tr>\n",
       "      <th>4</th>\n",
       "      <td>6654</td>\n",
       "      <td>0</td>\n",
       "      <td>7</td>\n",
       "      <td>86.500000</td>\n",
       "      <td>1</td>\n",
       "      <td>1</td>\n",
       "      <td>0</td>\n",
       "      <td>1</td>\n",
       "      <td>1</td>\n",
       "      <td>0</td>\n",
       "      <td>...</td>\n",
       "      <td>0</td>\n",
       "      <td>1</td>\n",
       "      <td>0</td>\n",
       "      <td>1</td>\n",
       "      <td>0</td>\n",
       "      <td>0</td>\n",
       "      <td>0</td>\n",
       "      <td>0</td>\n",
       "      <td>1</td>\n",
       "      <td>0</td>\n",
       "    </tr>\n",
       "  </tbody>\n",
       "</table>\n",
       "<p>5 rows × 26 columns</p>\n",
       "</div>"
      ],
      "text/plain": [
       "     id  Mais65anos  MesesDeContrato  MesesCobrados  Churn  Conjuge  \\\n",
       "0  7982           0                1      45.305408      1        0   \n",
       "1  9465           0               60     103.614223      1        1   \n",
       "2  2122           0               12      75.850000      0        0   \n",
       "3  3997           0               69      61.450000      0        1   \n",
       "4  6654           0                7      86.500000      1        1   \n",
       "\n",
       "   Dependentes  TelefoneFixo  MaisDeUmaLinhaTelefonica  SegurancaOnline  ...  \\\n",
       "0            0             0                         0                0  ...   \n",
       "1            0             1                         1                0  ...   \n",
       "2            0             1                         1                0  ...   \n",
       "3            0             1                         0                0  ...   \n",
       "4            0             1                         1                0  ...   \n",
       "\n",
       "   Internet_DSL  Internet_FibraOptica  Internet_Nao  TipoContrato_Mensalmente  \\\n",
       "0             1                     0             0                         1   \n",
       "1             0                     1             0                         1   \n",
       "2             1                     0             0                         0   \n",
       "3             1                     0             0                         0   \n",
       "4             0                     1             0                         1   \n",
       "\n",
       "   TipoContrato_UmAno  TipoContrato_DoisAnos  MetodoPagamento_DebitoEmConta  \\\n",
       "0                   0                      0                              0   \n",
       "1                   0                      0                              0   \n",
       "2                   1                      0                              0   \n",
       "3                   0                      1                              0   \n",
       "4                   0                      0                              0   \n",
       "\n",
       "   MetodoPagamento_CartaoCredito  MetodoPagamento_BoletoEletronico  \\\n",
       "0                              0                                 1   \n",
       "1                              0                                 1   \n",
       "2                              0                                 0   \n",
       "3                              1                                 0   \n",
       "4                              0                                 1   \n",
       "\n",
       "   MetodoPagamento_Boleto  \n",
       "0                       0  \n",
       "1                       0  \n",
       "2                       1  \n",
       "3                       0  \n",
       "4                       0  \n",
       "\n",
       "[5 rows x 26 columns]"
      ]
     },
     "execution_count": 22,
     "metadata": {},
     "output_type": "execute_result"
    }
   ],
   "source": [
    "dataset.limit(5).toPandas()"
   ]
  },
  {
   "cell_type": "code",
   "execution_count": 23,
   "metadata": {
    "id": "zFSSoSTYKY10"
   },
   "outputs": [
    {
     "name": "stdout",
     "output_type": "stream",
     "text": [
      "root\n",
      " |-- id: integer (nullable = true)\n",
      " |-- Mais65anos: integer (nullable = true)\n",
      " |-- MesesDeContrato: integer (nullable = true)\n",
      " |-- MesesCobrados: double (nullable = true)\n",
      " |-- Churn: integer (nullable = false)\n",
      " |-- Conjuge: integer (nullable = false)\n",
      " |-- Dependentes: integer (nullable = false)\n",
      " |-- TelefoneFixo: integer (nullable = false)\n",
      " |-- MaisDeUmaLinhaTelefonica: integer (nullable = false)\n",
      " |-- SegurancaOnline: integer (nullable = false)\n",
      " |-- BackupOnline: integer (nullable = false)\n",
      " |-- SeguroDispositivo: integer (nullable = false)\n",
      " |-- SuporteTecnico: integer (nullable = false)\n",
      " |-- TVaCabo: integer (nullable = false)\n",
      " |-- StreamingFilmes: integer (nullable = false)\n",
      " |-- ContaCorreio: integer (nullable = false)\n",
      " |-- Internet_DSL: integer (nullable = true)\n",
      " |-- Internet_FibraOptica: integer (nullable = true)\n",
      " |-- Internet_Nao: integer (nullable = true)\n",
      " |-- TipoContrato_Mensalmente: integer (nullable = true)\n",
      " |-- TipoContrato_UmAno: integer (nullable = true)\n",
      " |-- TipoContrato_DoisAnos: integer (nullable = true)\n",
      " |-- MetodoPagamento_DebitoEmConta: integer (nullable = true)\n",
      " |-- MetodoPagamento_CartaoCredito: integer (nullable = true)\n",
      " |-- MetodoPagamento_BoletoEletronico: integer (nullable = true)\n",
      " |-- MetodoPagamento_Boleto: integer (nullable = true)\n",
      "\n"
     ]
    }
   ],
   "source": [
    "dataset.printSchema()"
   ]
  },
  {
   "cell_type": "markdown",
   "metadata": {
    "id": "3cnBL2yHKZnG"
   },
   "source": [
    "## Aula 2 - Regressão Logística"
   ]
  },
  {
   "cell_type": "markdown",
   "metadata": {
    "id": "vlquUfkfGDZx"
   },
   "source": [
    "## **2.1 O Modelo**\n"
   ]
  },
  {
   "cell_type": "markdown",
   "metadata": {
    "id": "gDFGw4aMZ3g2"
   },
   "source": [
    "A regressão logística é um método popular para prever uma resposta categórica. É um caso especial de modelos Lineares Generalizados que prevê a probabilidade dos resultados. Em `spark.ml`, a regressão logística pode ser usada para prever um resultado binário usando regressão logística binomial ou pode ser usada para prever um resultado multiclasse usando regressão logística multinomial. Use o parâmetro `family` para selecionar entre esses dois algoritmos ou deixe-o indefinido e o Spark inferirá a variante correta.\n",
    "\n",
    "<font size=2>**Fonte:** [MLlib](https://spark.apache.org/docs/latest/ml-classification-regression.html#logistic-regression)</font>"
   ]
  },
  {
   "cell_type": "markdown",
   "metadata": {
    "id": "pEujwaThSGS-"
   },
   "source": [
    " <img src=\"https://miro.medium.com/max/1400/0*1KnKYuv0UDu_1-qM.gif?width=1191&height=670\" alt=\"Minha Figura\">\n"
   ]
  },
  {
   "cell_type": "markdown",
   "metadata": {
    "id": "NDpc-Kzvws1x"
   },
   "source": [
    "## **2.2 Preparação dos Dados**"
   ]
  },
  {
   "cell_type": "code",
   "execution_count": null,
   "metadata": {
    "id": "dTnCEhhZKYzC"
   },
   "outputs": [],
   "source": []
  },
  {
   "cell_type": "code",
   "execution_count": null,
   "metadata": {
    "id": "ihE4PcZ9KYwQ"
   },
   "outputs": [],
   "source": []
  },
  {
   "cell_type": "code",
   "execution_count": null,
   "metadata": {
    "id": "PiA1i__YKYto"
   },
   "outputs": [],
   "source": []
  },
  {
   "cell_type": "code",
   "execution_count": null,
   "metadata": {
    "id": "efKlYwS1KYqz"
   },
   "outputs": [],
   "source": []
  },
  {
   "cell_type": "markdown",
   "metadata": {
    "id": "HCHJN2tjwemu"
   },
   "source": [
    "## **2.3 Ajuste e Previsão**\n",
    "\n",
    "<font size=2>**Documentação:**</font>\n",
    "<font size=2>[randomSplit](https://spark.apache.org/docs/latest/api/python/reference/api/pyspark.sql.DataFrame.randomSplit.html)</font> |\n",
    "<font size=2>[LogisticRegression](https://spark.apache.org/docs/latest/api/python/reference/api/pyspark.ml.classification.LogisticRegression.html)</font>"
   ]
  },
  {
   "cell_type": "code",
   "execution_count": null,
   "metadata": {
    "id": "PeY-woLJKYoF"
   },
   "outputs": [],
   "source": []
  },
  {
   "cell_type": "code",
   "execution_count": null,
   "metadata": {
    "id": "0EZJx1yqKYlL"
   },
   "outputs": [],
   "source": []
  },
  {
   "cell_type": "code",
   "execution_count": null,
   "metadata": {
    "id": "LfI2JIBGKYiY"
   },
   "outputs": [],
   "source": []
  },
  {
   "cell_type": "code",
   "execution_count": null,
   "metadata": {
    "id": "6EYUfyK2KYfk"
   },
   "outputs": [],
   "source": []
  },
  {
   "cell_type": "markdown",
   "metadata": {
    "id": "zgp-iQXAKYc2"
   },
   "source": [
    "## **2.4 Métricas**\n",
    "\n",
    "<font size=2>**Documentação:**</font>\n",
    "<font size=2>[LogisticRegressionTrainingSummary](https://spark.apache.org/docs/latest/api/python/reference/api/pyspark.ml.classification.LogisticRegressionTrainingSummary.html)</font>"
   ]
  },
  {
   "cell_type": "code",
   "execution_count": null,
   "metadata": {
    "id": "TQLUaoKRKYZ9",
    "scrolled": true
   },
   "outputs": [],
   "source": []
  },
  {
   "cell_type": "code",
   "execution_count": null,
   "metadata": {
    "id": "MBaHsKAAKYXT"
   },
   "outputs": [],
   "source": []
  },
  {
   "cell_type": "code",
   "execution_count": null,
   "metadata": {
    "id": "O3kATMfUKYUU"
   },
   "outputs": [],
   "source": []
  }
 ],
 "metadata": {
  "colab": {
   "provenance": []
  },
  "kernelspec": {
   "display_name": "Python 3 (ipykernel)",
   "language": "python",
   "name": "python3"
  },
  "language_info": {
   "codemirror_mode": {
    "name": "ipython",
    "version": 3
   },
   "file_extension": ".py",
   "mimetype": "text/x-python",
   "name": "python",
   "nbconvert_exporter": "python",
   "pygments_lexer": "ipython3",
   "version": "3.9.15"
  },
  "varInspector": {
   "cols": {
    "lenName": 16,
    "lenType": 16,
    "lenVar": 40
   },
   "kernels_config": {
    "python": {
     "delete_cmd_postfix": "",
     "delete_cmd_prefix": "del ",
     "library": "var_list.py",
     "varRefreshCmd": "print(var_dic_list())"
    },
    "r": {
     "delete_cmd_postfix": ") ",
     "delete_cmd_prefix": "rm(",
     "library": "var_list.r",
     "varRefreshCmd": "cat(var_dic_list()) "
    }
   },
   "types_to_exclude": [
    "module",
    "function",
    "builtin_function_or_method",
    "instance",
    "_Feature"
   ],
   "window_display": false
  }
 },
 "nbformat": 4,
 "nbformat_minor": 1
}
